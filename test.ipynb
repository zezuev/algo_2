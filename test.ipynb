{
 "cells": [
  {
   "cell_type": "code",
   "execution_count": 1,
   "metadata": {},
   "outputs": [],
   "source": [
    "from algo_2 import TuringMachine, Tape, Run"
   ]
  },
  {
   "cell_type": "code",
   "execution_count": 2,
   "metadata": {},
   "outputs": [],
   "source": [
    "# Aufgabe 1.3.\n",
    "# Maschine L'\n",
    "\n",
    "tm = TuringMachine(\n",
    "    q=[\"q0\", \"q1\", \"q2\", \"f\"],\n",
    "    sigma=[0, 1],\n",
    "    gamma=[0, 1, \" \"],\n",
    "    space=\" \",\n",
    "    start=\"q0\",\n",
    "    finish=\"f\",\n",
    "    rules={\n",
    "        \"q0\": {\n",
    "            0: (\"q2\", 0, \"R\"),\n",
    "            1: (\"q1\", 1, \"R\"),\n",
    "            \" \": (\"f\", 1, \"N\"),\n",
    "        },\n",
    "        \"q1\": {\n",
    "            0: (\"f\", 0, \"N\"),\n",
    "            1: (\"q1\", 1, \"R\"),\n",
    "            \" \": (\"f\", 1, \"N\"),\n",
    "        },\n",
    "        \"q2\": {\n",
    "            0: (\"q2\", 0, \"R\"),\n",
    "            1: (\"q1\", 1, \"R\"),\n",
    "            \" \": (\"f\", 1, \"N\"),\n",
    "        },\n",
    "    }\n",
    ")"
   ]
  },
  {
   "cell_type": "code",
   "execution_count": 3,
   "metadata": {},
   "outputs": [],
   "source": [
    "tape = Tape(\" \", [0, 0, 1, 1])"
   ]
  },
  {
   "cell_type": "code",
   "execution_count": 4,
   "metadata": {},
   "outputs": [],
   "source": [
    "run = Run(tm, tape)"
   ]
  },
  {
   "cell_type": "code",
   "execution_count": 7,
   "metadata": {},
   "outputs": [
    {
     "data": {
      "text/plain": [
       "('q0', ([' ', ' ', ' ', ' ', ' '], 0, [0, 1, 1, ' ', ' ']))"
      ]
     },
     "execution_count": 7,
     "metadata": {},
     "output_type": "execute_result"
    }
   ],
   "source": [
    "run.display()"
   ]
  },
  {
   "cell_type": "code",
   "execution_count": 13,
   "metadata": {},
   "outputs": [
    {
     "data": {
      "text/plain": [
       "('f', ([' ', 0, 0, 1, 1], 1, [' ', ' ', ' ', ' ', ' ']))"
      ]
     },
     "execution_count": 13,
     "metadata": {},
     "output_type": "execute_result"
    }
   ],
   "source": [
    "run.step()\n",
    "run.display()"
   ]
  },
  {
   "cell_type": "code",
   "execution_count": 14,
   "metadata": {},
   "outputs": [],
   "source": [
    "# Maschine L\n",
    "\n",
    "tm = TuringMachine(\n",
    "    q=[\"q0\", \"q1\", \"q2\", \"q3\", \"f\"],\n",
    "    sigma=[0, 1],\n",
    "    gamma=[0, 1, \"#\", \" \"],\n",
    "    space=\" \",\n",
    "    start=\"q0\",\n",
    "    finish=\"f\",\n",
    "    rules={\n",
    "        \"q0\": {\n",
    "            0: (\"q1\", \"#\", \"R\"),\n",
    "            1: (\"f\", 0, \"N\"),\n",
    "            \"#\": (\"f\", 1, \"N\"),\n",
    "            \" \": (\"f\", 1, \"N\"),\n",
    "        },\n",
    "        \"q1\": {\n",
    "            0: (\"q1\", 0, \"R\"),\n",
    "            1: (\"q1\", 1, \"R\"),\n",
    "            \"#\": (\"q2\", \"#\", \"L\"),\n",
    "            \" \": (\"q2\", \" \", \"L\"),\n",
    "        },\n",
    "        \"q2\": {\n",
    "            0: (\"f\", 0, \"N\"),\n",
    "            1: (\"q3\", \"#\", \"L\"),\n",
    "            \"#\": (\"f\", 0, \"N\"),\n",
    "            \" \": (\"f\", 0, \"N\"),\n",
    "        },\n",
    "        \"q3\": {\n",
    "            0: (\"q3\", 0, \"L\"),\n",
    "            1: (\"q3\", 1, \"L\"),\n",
    "            \"#\": (\"q0\", \"#\", \"R\"),\n",
    "            \" \": (\"q0\", \" \", \"R\"),\n",
    "        },\n",
    "    },\n",
    ")"
   ]
  },
  {
   "cell_type": "code",
   "execution_count": 17,
   "metadata": {},
   "outputs": [],
   "source": [
    "tape = Tape(\" \", [0, 0, 0, 1, 0, 1])"
   ]
  },
  {
   "cell_type": "code",
   "execution_count": 18,
   "metadata": {},
   "outputs": [],
   "source": [
    "run = Run(tm, tape)"
   ]
  },
  {
   "cell_type": "code",
   "execution_count": 19,
   "metadata": {},
   "outputs": [
    {
     "data": {
      "text/plain": [
       "('q0', ([' ', ' ', ' ', ' ', ' '], 0, [0, 0, 1, 0, 1]))"
      ]
     },
     "execution_count": 19,
     "metadata": {},
     "output_type": "execute_result"
    }
   ],
   "source": [
    "run.display()"
   ]
  },
  {
   "cell_type": "code",
   "execution_count": 40,
   "metadata": {},
   "outputs": [
    {
     "data": {
      "text/plain": [
       "('f', ([' ', '#', '#', 0, 1], 0, ['#', ' ', ' ', ' ', ' ']))"
      ]
     },
     "execution_count": 40,
     "metadata": {},
     "output_type": "execute_result"
    }
   ],
   "source": [
    "run.step()\n",
    "run.display()"
   ]
  },
  {
   "cell_type": "code",
   "execution_count": 41,
   "metadata": {},
   "outputs": [
    {
     "data": {
      "text/plain": [
       "True"
      ]
     },
     "execution_count": 41,
     "metadata": {},
     "output_type": "execute_result"
    }
   ],
   "source": [
    "run.done()"
   ]
  },
  {
   "cell_type": "code",
   "execution_count": 42,
   "metadata": {},
   "outputs": [],
   "source": [
    "def language(w: str) -> bool:\n",
    "    n = len(w)\n",
    "    if n % 2:\n",
    "        return False\n",
    "    return (\n",
    "        all(c == \"0\" for c in w[:n//2])\n",
    "        and all(c == \"1\" for c in w[n//2:])\n",
    "    )"
   ]
  },
  {
   "cell_type": "code",
   "execution_count": 2,
   "metadata": {},
   "outputs": [],
   "source": [
    "n = 4\n",
    "\n",
    "q = [\"q0\", \"q1\", \"q2\", \"q3\", \"f\"]\n",
    "sigma = [f\"a{i}\" for i in range(1, n+1)]\n",
    "gamma = sigma + [\"#\", \" \"]\n",
    "\n",
    "if n == 1:\n",
    "    rule_q0 = {\" \": (\"f\", \"a1\", \"N\")}\n",
    "else:\n",
    "    rule_q0 = {\" \": (\"q1\", \"a1\", \"R\")}\n",
    "rules = {\n",
    "    \"q0\": rule_q0,\n",
    "    \"q1\": {\n",
    "        f\"a{i}\": (\"q1\", f\"a{i+1}\", \"R\")\n",
    "        for i in range(1, n-1)\n",
    "    } | {\n",
    "        f\"a{n-1}\": (\"q2\", f\"a{n}\", \"L\"),\n",
    "        \"#\": (\"q1\", \"#\", \"R\"),\n",
    "        \" \": (\"q3\", \" \", \"L\"),\n",
    "    },\n",
    "    \"q2\": {\n",
    "        f\"a{i}\": (\"q2\", f\"a{i}\", \"L\")\n",
    "        for i in range(1, n+1)\n",
    "    } | {\n",
    "        \"#\": (\"q2\", \"#\", \"L\"),\n",
    "        \" \": (\"f\", \" \", \"R\"),\n",
    "    },\n",
    "    \"q3\": {\n",
    "        f\"a{i}\": (\"q3\", f\"a{i}\", \"L\")\n",
    "        for i in range(1, n+1)\n",
    "    } | {\n",
    "        \"#\": (\"q3\", \"#\", \"L\"),\n",
    "        \" \": (\"q0\", \"#\", \"L\"),\n",
    "    },\n",
    "}"
   ]
  },
  {
   "cell_type": "code",
   "execution_count": 3,
   "metadata": {},
   "outputs": [],
   "source": [
    "tm = TuringMachine(q, sigma, gamma, \" \", \"q0\", \"f\", rules)"
   ]
  },
  {
   "cell_type": "code",
   "execution_count": 4,
   "metadata": {},
   "outputs": [],
   "source": [
    "tape = Tape(\" \")"
   ]
  },
  {
   "cell_type": "code",
   "execution_count": 5,
   "metadata": {},
   "outputs": [],
   "source": [
    "run = Run(tm, tape)"
   ]
  },
  {
   "cell_type": "code",
   "execution_count": 6,
   "metadata": {},
   "outputs": [
    {
     "data": {
      "text/plain": [
       "('q0', ([' ', ' ', ' ', ' ', ' ', ' '], ' ', [' ', ' ', ' ', ' ', ' ', ' ']))"
      ]
     },
     "execution_count": 6,
     "metadata": {},
     "output_type": "execute_result"
    }
   ],
   "source": [
    "run.display(6)"
   ]
  },
  {
   "cell_type": "code",
   "execution_count": 46,
   "metadata": {},
   "outputs": [
    {
     "data": {
      "text/plain": [
       "('f',\n",
       " ([' ', ' ', ' ', ' ', ' ', ' '], 'a1', ['#', 'a2', '#', 'a3', '#', 'a4']))"
      ]
     },
     "execution_count": 46,
     "metadata": {},
     "output_type": "execute_result"
    }
   ],
   "source": [
    "run.step()\n",
    "run.display(6)"
   ]
  },
  {
   "cell_type": "code",
   "execution_count": 39,
   "metadata": {},
   "outputs": [
    {
     "data": {
      "text/plain": [
       "True"
      ]
     },
     "execution_count": 39,
     "metadata": {},
     "output_type": "execute_result"
    }
   ],
   "source": [
    "run.done()"
   ]
  },
  {
   "cell_type": "code",
   "execution_count": null,
   "metadata": {},
   "outputs": [],
   "source": []
  }
 ],
 "metadata": {
  "kernelspec": {
   "display_name": "twelve",
   "language": "python",
   "name": "python3"
  },
  "language_info": {
   "codemirror_mode": {
    "name": "ipython",
    "version": 3
   },
   "file_extension": ".py",
   "mimetype": "text/x-python",
   "name": "python",
   "nbconvert_exporter": "python",
   "pygments_lexer": "ipython3",
   "version": "3.12.1"
  }
 },
 "nbformat": 4,
 "nbformat_minor": 2
}
