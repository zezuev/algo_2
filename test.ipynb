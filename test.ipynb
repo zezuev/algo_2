{
 "cells": [
  {
   "cell_type": "code",
   "execution_count": 1,
   "metadata": {},
   "outputs": [],
   "source": [
    "from algo_2 import TuringMachine, Tape, Run"
   ]
  },
  {
   "cell_type": "code",
   "execution_count": 36,
   "metadata": {},
   "outputs": [],
   "source": [
    "# Aufgabe 1.3.\n",
    "# Maschine L\n",
    "\n",
    "tm = TuringMachine(\n",
    "    q=[\"q0\", \"q1\", \"q2\", \"f\"],\n",
    "    sigma=[0, 1],\n",
    "    gamma=[0, 1, \" \"],\n",
    "    space=\" \",\n",
    "    start=\"q0\",\n",
    "    finish=\"f\",\n",
    "    rules={\n",
    "        \"q0\": {\n",
    "            0: (\"q2\", 0, \"R\"),\n",
    "            1: (\"q1\", 1, \"R\"),\n",
    "            \" \": (\"f\", 1, \"N\"),\n",
    "        },\n",
    "        \"q1\": {\n",
    "            0: (\"f\", 0, \"N\"),\n",
    "            1: (\"q1\", 1, \"R\"),\n",
    "            \" \": (\"f\", 1, \"N\"),\n",
    "        },\n",
    "        \"q2\": {\n",
    "            0: (\"q2\", 0, \"R\"),\n",
    "            1: (\"q1\", 1, \"R\"),\n",
    "            \" \": (\"f\", 1, \"N\"),\n",
    "        },\n",
    "    }\n",
    ")"
   ]
  },
  {
   "cell_type": "code",
   "execution_count": 37,
   "metadata": {},
   "outputs": [],
   "source": [
    "tape = Tape([0, 0, 0, 1, 0], \" \")"
   ]
  },
  {
   "cell_type": "code",
   "execution_count": 38,
   "metadata": {},
   "outputs": [],
   "source": [
    "run = Run(tm, tape)"
   ]
  },
  {
   "cell_type": "code",
   "execution_count": 39,
   "metadata": {},
   "outputs": [
    {
     "data": {
      "text/plain": [
       "([' ', ' ', ' ', ' ', ' '], 0, [0, 0, 1, 0, ' '])"
      ]
     },
     "execution_count": 39,
     "metadata": {},
     "output_type": "execute_result"
    }
   ],
   "source": [
    "run.display()"
   ]
  },
  {
   "cell_type": "code",
   "execution_count": 35,
   "metadata": {},
   "outputs": [
    {
     "data": {
      "text/plain": [
       "([' ', 0, 0, 0, 1], 0, [' ', ' ', ' ', ' ', ' '])"
      ]
     },
     "execution_count": 35,
     "metadata": {},
     "output_type": "execute_result"
    }
   ],
   "source": [
    "run.step()\n",
    "run.display()"
   ]
  },
  {
   "cell_type": "code",
   "execution_count": 112,
   "metadata": {},
   "outputs": [],
   "source": [
    "# Maschine L\n",
    "\n",
    "tm = TuringMachine(\n",
    "    q=[\"q0\", \"q1\", \"q2\", \"q3\", \"f\"],\n",
    "    sigma=[0, 1],\n",
    "    gamma=[0, 1, \"#\", \" \"],\n",
    "    space=\" \",\n",
    "    start=\"q0\",\n",
    "    finish=\"f\",\n",
    "    rules={\n",
    "        \"q0\": {\n",
    "            0: (\"q1\", \"#\", \"R\"),\n",
    "            1: (\"f\", 0, \"N\"),\n",
    "            \"#\": (\"f\", 1, \"N\"),\n",
    "            \" \": (\"f\", 1, \"N\"),\n",
    "        },\n",
    "        \"q1\": {\n",
    "            0: (\"q1\", 0, \"R\"),\n",
    "            1: (\"q1\", 1, \"R\"),\n",
    "            \"#\": (\"q2\", \"#\", \"L\"),\n",
    "            \" \": (\"q2\", \" \", \"L\"),\n",
    "        },\n",
    "        \"q2\": {\n",
    "            0: (\"f\", 0, \"N\"),\n",
    "            1: (\"q3\", \"#\", \"L\"),\n",
    "            \"#\": (\"f\", 0, \"N\"),\n",
    "            \" \": (\"f\", 0, \"N\"),\n",
    "        },\n",
    "        \"q3\": {\n",
    "            0: (\"q3\", 0, \"L\"),\n",
    "            1: (\"q3\", 1, \"L\"),\n",
    "            \"#\": (\"q0\", \"#\", \"R\"),\n",
    "            \" \": (\"q0\", \" \", \"R\"),\n",
    "        },\n",
    "    },\n",
    ")"
   ]
  },
  {
   "cell_type": "code",
   "execution_count": 150,
   "metadata": {},
   "outputs": [],
   "source": [
    "tape = Tape([0, 0, 0, 1, 0, 1], \" \")"
   ]
  },
  {
   "cell_type": "code",
   "execution_count": 151,
   "metadata": {},
   "outputs": [],
   "source": [
    "run = Run(tm, tape)"
   ]
  },
  {
   "cell_type": "code",
   "execution_count": 152,
   "metadata": {},
   "outputs": [
    {
     "data": {
      "text/plain": [
       "([' ', ' ', ' ', ' ', ' '], 0, [0, 0, 1, 0, 1])"
      ]
     },
     "execution_count": 152,
     "metadata": {},
     "output_type": "execute_result"
    }
   ],
   "source": [
    "run.display()"
   ]
  },
  {
   "cell_type": "code",
   "execution_count": 173,
   "metadata": {},
   "outputs": [
    {
     "data": {
      "text/plain": [
       "([' ', '#', '#', 0, 1], 0, ['#', ' ', ' ', ' ', ' '])"
      ]
     },
     "execution_count": 173,
     "metadata": {},
     "output_type": "execute_result"
    }
   ],
   "source": [
    "run.step()\n",
    "run.display()"
   ]
  },
  {
   "cell_type": "code",
   "execution_count": 174,
   "metadata": {},
   "outputs": [
    {
     "data": {
      "text/plain": [
       "True"
      ]
     },
     "execution_count": 174,
     "metadata": {},
     "output_type": "execute_result"
    }
   ],
   "source": [
    "run.done()"
   ]
  },
  {
   "cell_type": "code",
   "execution_count": 109,
   "metadata": {},
   "outputs": [],
   "source": [
    "def language(w: str) -> bool:\n",
    "    n = len(w)\n",
    "    if n % 2:\n",
    "        return False\n",
    "    return (\n",
    "        all(c == \"0\" for c in w[:n//2])\n",
    "        and all(c == \"1\" for c in w[n//2:])\n",
    "    )"
   ]
  },
  {
   "cell_type": "code",
   "execution_count": null,
   "metadata": {},
   "outputs": [],
   "source": []
  }
 ],
 "metadata": {
  "kernelspec": {
   "display_name": "twelve",
   "language": "python",
   "name": "python3"
  },
  "language_info": {
   "codemirror_mode": {
    "name": "ipython",
    "version": 3
   },
   "file_extension": ".py",
   "mimetype": "text/x-python",
   "name": "python",
   "nbconvert_exporter": "python",
   "pygments_lexer": "ipython3",
   "version": "3.12.1"
  }
 },
 "nbformat": 4,
 "nbformat_minor": 2
}
