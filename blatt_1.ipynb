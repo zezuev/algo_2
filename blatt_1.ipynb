{
 "cells": [
  {
   "cell_type": "code",
   "execution_count": 1,
   "metadata": {},
   "outputs": [],
   "source": [
    "from algo_2 import TuringMachine, Tape, Run"
   ]
  },
  {
   "cell_type": "markdown",
   "metadata": {},
   "source": [
    "## Aufgabe 1.1"
   ]
  },
  {
   "cell_type": "code",
   "execution_count": 2,
   "metadata": {},
   "outputs": [],
   "source": [
    "tm_1 = TuringMachine(\n",
    "    q=[\"q0\", \"q1\", \"q2\", \"q3\", \"q4\", \"f\"],\n",
    "    sigma=[0, 1],\n",
    "    gamma=[0, 1, \" \"],\n",
    "    space=\" \",\n",
    "    start=\"q0\",\n",
    "    finish=\"f\",\n",
    "    rules={\n",
    "        \"q0\": {\n",
    "            0: (\"q0\", 0, \"R\"),\n",
    "            1: (\"q0\", 1, \"R\"),\n",
    "            \" \": (\"q1\", \" \", \"L\"),\n",
    "        },\n",
    "        \"q1\": {\n",
    "            0: (\"q2\", \" \", \"R\"),\n",
    "            1: (\"q3\", \" \", \"R\"),\n",
    "            \" \": (\"f\", \" \", \"R\"),\n",
    "        },\n",
    "        \"q2\": {\n",
    "            0: (\"q4\", 0, \"L\"),\n",
    "            1: (\"q4\", 0, \"L\"),\n",
    "            \" \": (\"q4\", 0, \"L\"),\n",
    "        },\n",
    "        \"q3\": {\n",
    "            0: (\"q4\", 1, \"L\"),\n",
    "            1: (\"q4\", 1, \"L\"),\n",
    "            \" \": (\"q4\", 1, \"L\"),\n",
    "        },\n",
    "        \"q4\": {\n",
    "            0: (\"q4\", 1, \"L\"),\n",
    "            1: (\"q4\", 0, \"L\"),\n",
    "            \" \": (\"q1\", \" \", \"L\"),\n",
    "        },\n",
    "    },\n",
    ")"
   ]
  },
  {
   "cell_type": "code",
   "execution_count": 3,
   "metadata": {},
   "outputs": [],
   "source": [
    "tape_1 = Tape(\" \", [1, 1, 1, 0, 0])\n",
    "run_1 = Run(tm_1, tape_1)"
   ]
  },
  {
   "cell_type": "code",
   "execution_count": 4,
   "metadata": {},
   "outputs": [
    {
     "data": {
      "text/plain": [
       "('f', ([' ', ' ', ' ', ' ', ' '], ' ', [1, 1, 1, 0, 0]))"
      ]
     },
     "execution_count": 4,
     "metadata": {},
     "output_type": "execute_result"
    }
   ],
   "source": [
    "while not run_1.done():\n",
    "    run_1.step()\n",
    "run_1.display()\n",
    "\n",
    "# Offensichtlich verschiebt diese TM den Bandinhalt um eine Stelle nach rechts"
   ]
  },
  {
   "cell_type": "markdown",
   "metadata": {},
   "source": [
    "## Aufgabe 1.2"
   ]
  },
  {
   "cell_type": "code",
   "execution_count": 5,
   "metadata": {},
   "outputs": [],
   "source": [
    "def create_alphabet_tm(n: int) -> TuringMachine:\n",
    "    q = [\"q0\", \"q1\", \"q2\", \"q3\", \"f\"]\n",
    "    sigma = [f\"a{i}\" for i in range(1, n+1)]\n",
    "    gamma = sigma + [\"#\", \" \"]\n",
    "\n",
    "    if n == 1:\n",
    "        rule_q0 = {\" \": (\"f\", \"a1\", \"N\")}\n",
    "    else:\n",
    "        rule_q0 = {\" \": (\"q1\", \"a1\", \"R\")}\n",
    "    rules = {\n",
    "        \"q0\": rule_q0,\n",
    "        \"q1\": {\n",
    "            f\"a{i}\": (\"q1\", f\"a{i+1}\", \"R\")\n",
    "            for i in range(1, n-1)\n",
    "        } | {\n",
    "            f\"a{n-1}\": (\"q2\", f\"a{n}\", \"L\"),\n",
    "            \"#\": (\"q1\", \"#\", \"R\"),\n",
    "            \" \": (\"q3\", \" \", \"L\"),\n",
    "        },\n",
    "        \"q2\": {\n",
    "            f\"a{i}\": (\"q2\", f\"a{i}\", \"L\")\n",
    "            for i in range(1, n+1)\n",
    "        } | {\n",
    "            \"#\": (\"q2\", \"#\", \"L\"),\n",
    "            \" \": (\"f\", \" \", \"R\"),\n",
    "        },\n",
    "        \"q3\": {\n",
    "            f\"a{i}\": (\"q3\", f\"a{i}\", \"L\")\n",
    "            for i in range(1, n+1)\n",
    "        } | {\n",
    "            \"#\": (\"q3\", \"#\", \"L\"),\n",
    "            \" \": (\"q0\", \"#\", \"L\"),\n",
    "        },\n",
    "    }\n",
    "\n",
    "    return TuringMachine(q, sigma, gamma, \" \", \"q0\", \"f\", rules)"
   ]
  },
  {
   "cell_type": "code",
   "execution_count": 6,
   "metadata": {},
   "outputs": [],
   "source": [
    "tm_2 = create_alphabet_tm(3)\n",
    "tape_2 = Tape(\" \")\n",
    "run_2 = Run(tm_2, tape_2)"
   ]
  },
  {
   "cell_type": "code",
   "execution_count": 7,
   "metadata": {},
   "outputs": [
    {
     "data": {
      "text/plain": [
       "('f', ([' ', ' ', ' ', ' ', ' '], 'a1', ['#', 'a2', '#', 'a3', ' ']))"
      ]
     },
     "execution_count": 7,
     "metadata": {},
     "output_type": "execute_result"
    }
   ],
   "source": [
    "while not run_2.done():\n",
    "    run_2.step()\n",
    "run_2.display()\n",
    "\n",
    "# Die Maschine hat ihr Eingabealphabet rezitiert"
   ]
  },
  {
   "cell_type": "markdown",
   "metadata": {},
   "source": [
    "## Aufgabe 1.3"
   ]
  },
  {
   "cell_type": "code",
   "execution_count": 8,
   "metadata": {},
   "outputs": [],
   "source": [
    "# Sprache L\n",
    "tm_3_1 = TuringMachine(\n",
    "    q=[\"q0\", \"q1\", \"q2\", \"q3\", \"f\"],\n",
    "    sigma=[0, 1],\n",
    "    gamma=[0, 1, \"#\", \" \"],\n",
    "    space=\" \",\n",
    "    start=\"q0\",\n",
    "    finish=\"f\",\n",
    "    rules={\n",
    "        \"q0\": {\n",
    "            0: (\"q1\", \"#\", \"R\"),\n",
    "            1: (\"f\", 0, \"N\"),\n",
    "            \"#\": (\"f\", 1, \"N\"),\n",
    "            \" \": (\"f\", 1, \"N\"),\n",
    "        },\n",
    "        \"q1\": {\n",
    "            0: (\"q1\", 0, \"R\"),\n",
    "            1: (\"q1\", 1, \"R\"),\n",
    "            \"#\": (\"q2\", \"#\", \"L\"),\n",
    "            \" \": (\"q2\", \" \", \"L\"),\n",
    "        },\n",
    "        \"q2\": {\n",
    "            0: (\"f\", 0, \"N\"),\n",
    "            1: (\"q3\", \"#\", \"L\"),\n",
    "            \"#\": (\"f\", 0, \"N\"),\n",
    "            \" \": (\"f\", 0, \"N\"),\n",
    "        },\n",
    "        \"q3\": {\n",
    "            0: (\"q3\", 0, \"L\"),\n",
    "            1: (\"q3\", 1, \"L\"),\n",
    "            \"#\": (\"q0\", \"#\", \"R\"),\n",
    "            \" \": (\"q0\", \" \", \"R\"),\n",
    "        },\n",
    "    },\n",
    ")"
   ]
  },
  {
   "cell_type": "code",
   "execution_count": 9,
   "metadata": {},
   "outputs": [],
   "source": [
    "tape_3_1a = Tape(\" \", [0, 0, 0, 1, 1, 1])\n",
    "run_3_1a = Run(tm_3_1, tape_3_1a)"
   ]
  },
  {
   "cell_type": "code",
   "execution_count": 10,
   "metadata": {},
   "outputs": [
    {
     "data": {
      "text/plain": [
       "('f', ([' ', ' ', '#', '#', '#'], 1, ['#', '#', ' ', ' ', ' ']))"
      ]
     },
     "execution_count": 10,
     "metadata": {},
     "output_type": "execute_result"
    }
   ],
   "source": [
    "while not run_3_1a.done():\n",
    "    run_3_1a.step()\n",
    "run_3_1a.display()\n",
    "\n",
    "# Die Maschine hat das Wort akzeptiert"
   ]
  },
  {
   "cell_type": "code",
   "execution_count": 11,
   "metadata": {},
   "outputs": [],
   "source": [
    "tape_3_1b = Tape(\" \", [0, 0, 1, 1, 1])\n",
    "run_3_1b = Run(tm_3_1, tape_3_1b)"
   ]
  },
  {
   "cell_type": "code",
   "execution_count": 12,
   "metadata": {},
   "outputs": [
    {
     "data": {
      "text/plain": [
       "('f', ([' ', ' ', ' ', '#', '#'], 0, ['#', '#', ' ', ' ', ' ']))"
      ]
     },
     "execution_count": 12,
     "metadata": {},
     "output_type": "execute_result"
    }
   ],
   "source": [
    "while not run_3_1b.done():\n",
    "    run_3_1b.step()\n",
    "run_3_1b.display()\n",
    "\n",
    "# Die Maschine hat das Wort verworfen"
   ]
  },
  {
   "cell_type": "code",
   "execution_count": 13,
   "metadata": {},
   "outputs": [],
   "source": [
    "# Sprache L'\n",
    "tm_3_2 = TuringMachine(\n",
    "    q=[\"q0\", \"q1\", \"q2\", \"f\"],\n",
    "    sigma=[0, 1],\n",
    "    gamma=[0, 1, \" \"],\n",
    "    space=\" \",\n",
    "    start=\"q0\",\n",
    "    finish=\"f\",\n",
    "    rules={\n",
    "        \"q0\": {\n",
    "            0: (\"q2\", 0, \"R\"),\n",
    "            1: (\"q1\", 1, \"R\"),\n",
    "            \" \": (\"f\", 1, \"N\"),\n",
    "        },\n",
    "        \"q1\": {\n",
    "            0: (\"f\", 0, \"N\"),\n",
    "            1: (\"q1\", 1, \"R\"),\n",
    "            \" \": (\"f\", 1, \"N\"),\n",
    "        },\n",
    "        \"q2\": {\n",
    "            0: (\"q2\", 0, \"R\"),\n",
    "            1: (\"q1\", 1, \"R\"),\n",
    "            \" \": (\"f\", 1, \"N\"),\n",
    "        },\n",
    "    }\n",
    ")"
   ]
  },
  {
   "cell_type": "code",
   "execution_count": 14,
   "metadata": {},
   "outputs": [],
   "source": [
    "tape_3_2a = Tape(\" \", [0, 0, 1, 1, 1])\n",
    "run_3_2a = Run(tm_3_2, tape_3_2a)"
   ]
  },
  {
   "cell_type": "code",
   "execution_count": 15,
   "metadata": {},
   "outputs": [
    {
     "data": {
      "text/plain": [
       "('f', ([0, 0, 1, 1, 1], 1, [' ', ' ', ' ', ' ', ' ']))"
      ]
     },
     "execution_count": 15,
     "metadata": {},
     "output_type": "execute_result"
    }
   ],
   "source": [
    "while not run_3_2a.done():\n",
    "    run_3_2a.step()\n",
    "run_3_2a.display()\n",
    "\n",
    "# Die Maschine hat das Wort akzeptiert"
   ]
  },
  {
   "cell_type": "code",
   "execution_count": 16,
   "metadata": {},
   "outputs": [],
   "source": [
    "tape_3_2b = Tape(\" \", [0, 0, 1, 0, 1])\n",
    "run_3_2b = Run(tm_3_2, tape_3_2b)"
   ]
  },
  {
   "cell_type": "code",
   "execution_count": 17,
   "metadata": {},
   "outputs": [
    {
     "data": {
      "text/plain": [
       "('f', ([' ', ' ', 0, 0, 1], 0, [1, ' ', ' ', ' ', ' ']))"
      ]
     },
     "execution_count": 17,
     "metadata": {},
     "output_type": "execute_result"
    }
   ],
   "source": [
    "while not run_3_2b.done():\n",
    "    run_3_2b.step()\n",
    "run_3_2b.display()\n",
    "\n",
    "# Die Maschine hat das Wort verworfen"
   ]
  }
 ],
 "metadata": {
  "kernelspec": {
   "display_name": "twelve",
   "language": "python",
   "name": "python3"
  },
  "language_info": {
   "codemirror_mode": {
    "name": "ipython",
    "version": 3
   },
   "file_extension": ".py",
   "mimetype": "text/x-python",
   "name": "python",
   "nbconvert_exporter": "python",
   "pygments_lexer": "ipython3",
   "version": "3.12.1"
  }
 },
 "nbformat": 4,
 "nbformat_minor": 2
}
